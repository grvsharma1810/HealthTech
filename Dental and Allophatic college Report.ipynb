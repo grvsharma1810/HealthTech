{
 "cells": [
  {
   "cell_type": "code",
   "execution_count": 2,
   "metadata": {},
   "outputs": [
    {
     "name": "stdout",
     "output_type": "stream",
     "text": [
      "['2001', '2002', '2003', '2004', '2005', '2006', '2007', '2008', '2009', '2010', '2011', '2012', '2013', '2015', '2016']\n",
      "['149', '164', '181', '185', '205', '238', '267', '282', '290', '288', '291', '297', '301', '305', '308']\n",
      "['52', '56', '58', '61', '67', '87', '104', '122', '140', '148', '168', '196', '205', '224', '240']\n",
      "['9550', '10970', '12960', '13400', '15440', '18120', '20910', '22650', '23570', '23330', '23870', '24640', '25320', '26240', '26530']\n"
     ]
    }
   ],
   "source": [
    "import csv\n",
    "import matplotlib.pyplot as plt\n",
    "import pandas as pd\n",
    "l=[]\n",
    "r=[]\n",
    "s=[]\n",
    "label=[]\n",
    "reader = [row for row in csv.reader(open('t10.csv'))]\n",
    "for row in reader :\n",
    "    if reader.index(row) >4 :\n",
    "        l.append(row[0])\n",
    "        r.append(row[3])\n",
    "        s.append(row[5])\n",
    "        label.append(row[4])\n",
    "print(l)\n",
    "print(r)\n",
    "print(s)\n",
    "print(label)\n",
    "for i in range(len(l)) :\n",
    "    l[i]=int(l[i])\n",
    "for i in range(len(l)) :\n",
    "    r[i]=int(r[i])\n",
    "for i in range(len(s)) :\n",
    "    s[i]=int(s[i])\n"
   ]
  },
  {
   "cell_type": "code",
   "execution_count": 12,
   "metadata": {},
   "outputs": [
    {
     "data": {
      "text/plain": [
       "<matplotlib.legend.Legend at 0x26535c3f780>"
      ]
     },
     "execution_count": 12,
     "metadata": {},
     "output_type": "execute_result"
    },
    {
     "data": {
      "image/png": "[encoded data removed]",
      "text/plain": [
       "<Figure size 432x288 with 1 Axes>"
      ]
     },
     "metadata": {
      "needs_background": "light"
     },
     "output_type": "display_data"
    }
   ],
   "source": [
    "import numpy as np\n",
    "#comp=['asa','daad','adafsfsfs']\n",
    "#rev=[132,111,313]\n",
    "#profit=[12,23,43]\n",
    "ypos=np.arange(len(l))\n",
    "xpos=np.arange(len(l))\n",
    "\n",
    "plt.xticks(ypos,label)\n",
    "plt.xticks(xpos,label)\n",
    "\n",
    "plt.xlabel(\" No. of students  \")\n",
    "plt.ylabel(\" No. of colleges  \")\n",
    "plt.title(\" Dental College \")\n",
    "plt.bar(ypos,r,label='No. od BDS College')\n",
    "plt.bar(xpos,s,label='No of MDS college')\n",
    "plt.legend()\n"
   ]
  },
  {
   "cell_type": "code",
   "execution_count": 15,
   "metadata": {},
   "outputs": [
    {
     "name": "stdout",
     "output_type": "stream",
     "text": [
      "['2001', '2002', '2003', '2004', '2005', '2006', '2007', '2008', '2009', '2010', '2011', '2012', '2013', '2015', '2016']\n",
      "['0', '0', '0', '229', '242', '262', '266', '289', '300', '314', '356', '367', '381', '398', '412']\n",
      "['0', '0', '0', '0', '0', '25058', '30290', '32815', '34084', '29263', '38210', '43576', '48567', '46456', '48855']\n"
     ]
    }
   ],
   "source": [
    "a=[]\n",
    "b=[]\n",
    "label1=[]\n",
    "reader = [row for row in csv.reader(open('t10.csv'))]\n",
    "for row in reader :\n",
    "    if reader.index(row) >4 :\n",
    "        a.append(row[0])\n",
    "        b.append(row[1])\n",
    "        label1.append(row[2])\n",
    "print(a)\n",
    "print(b)\n",
    "print(label1)\n",
    "for i in range(len(a)) :\n",
    "    a[i]=int(a[i])\n",
    "for i in range(len(b)) :\n",
    "    b[i]=int(b[i])\n",
    "\n"
   ]
  },
  {
   "cell_type": "code",
   "execution_count": 17,
   "metadata": {},
   "outputs": [
    {
     "data": {
      "text/plain": [
       "<BarContainer object of 15 artists>"
      ]
     },
     "execution_count": 17,
     "metadata": {},
     "output_type": "execute_result"
    },
    {
     "data": {
      "image/png": "[encoded data removed]",
      "text/plain": [
       "<Figure size 432x288 with 1 Axes>"
      ]
     },
     "metadata": {
      "needs_background": "light"
     },
     "output_type": "display_data"
    }
   ],
   "source": [
    "ypos=np.arange(len(a))\n",
    "xpos=np.arange(len(a))\n",
    "\n",
    "plt.xticks(ypos,label)\n",
    "\n",
    "\n",
    "plt.xlabel(\" No. of students  \")\n",
    "plt.ylabel(\" No. of colleges  \")\n",
    "plt.title(\" Allophatic College \")\n",
    "plt.bar(ypos,b,label='No. od BDS College')\n",
    "\n"
   ]
  },
  {
   "cell_type": "code",
   "execution_count": null,
   "metadata": {},
   "outputs": [],
   "source": []
  }
 ],
 "metadata": {
  "kernelspec": {
   "display_name": "Python 3",
   "language": "python",
   "name": "python3"
  },
  "language_info": {
   "codemirror_mode": {
    "name": "ipython",
    "version": 3
   },
   "file_extension": ".py",
   "mimetype": "text/x-python",
   "name": "python",
   "nbconvert_exporter": "python",
   "pygments_lexer": "ipython3",
   "version": "3.7.0"
  }
 },
 "nbformat": 4,
 "nbformat_minor": 2
}
